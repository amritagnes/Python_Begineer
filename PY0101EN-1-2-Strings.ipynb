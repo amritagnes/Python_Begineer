{
 "cells": [
  {
   "cell_type": "code",
   "execution_count": 3,
   "id": "348367ae",
   "metadata": {},
   "outputs": [
    {
     "data": {
      "text/plain": [
       "'Amrita Agnes'"
      ]
     },
     "execution_count": 3,
     "metadata": {},
     "output_type": "execute_result"
    }
   ],
   "source": [
    "name=\"Amrita Agnes\"\n",
    "name"
   ]
  },
  {
   "cell_type": "code",
   "execution_count": 5,
   "id": "40036646",
   "metadata": {},
   "outputs": [
    {
     "data": {
      "text/plain": [
       "'s'"
      ]
     },
     "execution_count": 5,
     "metadata": {},
     "output_type": "execute_result"
    }
   ],
   "source": [
    "name[-1]"
   ]
  },
  {
   "cell_type": "code",
   "execution_count": 6,
   "id": "4f37bcb7",
   "metadata": {},
   "outputs": [
    {
     "data": {
      "text/plain": [
       "'a'"
      ]
     },
     "execution_count": 6,
     "metadata": {},
     "output_type": "execute_result"
    }
   ],
   "source": [
    "name[-7]"
   ]
  },
  {
   "cell_type": "code",
   "execution_count": 7,
   "id": "fda1f8c4",
   "metadata": {},
   "outputs": [
    {
     "data": {
      "text/plain": [
       "'A'"
      ]
     },
     "execution_count": 7,
     "metadata": {},
     "output_type": "execute_result"
    }
   ],
   "source": [
    "name[0]"
   ]
  },
  {
   "cell_type": "code",
   "execution_count": 8,
   "id": "ba8fc9c3",
   "metadata": {},
   "outputs": [
    {
     "data": {
      "text/plain": [
       "6"
      ]
     },
     "execution_count": 8,
     "metadata": {},
     "output_type": "execute_result"
    }
   ],
   "source": [
    "len('Haezel')"
   ]
  },
  {
   "cell_type": "code",
   "execution_count": 1,
   "id": "ffa23b74",
   "metadata": {},
   "outputs": [
    {
     "data": {
      "text/plain": [
       "'amritajithin'"
      ]
     },
     "execution_count": 1,
     "metadata": {},
     "output_type": "execute_result"
    }
   ],
   "source": [
    "name='amrita'+'jithin'\n",
    "name"
   ]
  },
  {
   "cell_type": "code",
   "execution_count": 4,
   "id": "c2106d4a",
   "metadata": {},
   "outputs": [
    {
     "name": "stdout",
     "output_type": "stream",
     "text": [
      "haezel had a little lamb\n"
     ]
    }
   ],
   "source": [
    "text=\"mary had a little lamb\"\n",
    "C=text.replace('mary','haezel')\n",
    "print(C)"
   ]
  },
  {
   "cell_type": "code",
   "execution_count": 5,
   "id": "842cbba0",
   "metadata": {},
   "outputs": [
    {
     "name": "stdout",
     "output_type": "stream",
     "text": [
      "HAEZEL HAD A LITTLE LAMB\n"
     ]
    }
   ],
   "source": [
    "x=C.upper()\n",
    "print(x)"
   ]
  },
  {
   "cell_type": "code",
   "execution_count": 6,
   "id": "b8b408b7",
   "metadata": {},
   "outputs": [
    {
     "data": {
      "text/plain": [
       "-1"
      ]
     },
     "execution_count": 6,
     "metadata": {},
     "output_type": "execute_result"
    }
   ],
   "source": [
    "x.find('had')"
   ]
  },
  {
   "cell_type": "code",
   "execution_count": 7,
   "id": "78ab89ed",
   "metadata": {},
   "outputs": [
    {
     "data": {
      "text/plain": [
       "7"
      ]
     },
     "execution_count": 7,
     "metadata": {},
     "output_type": "execute_result"
    }
   ],
   "source": [
    "x.find('HAD')"
   ]
  },
  {
   "cell_type": "code",
   "execution_count": 8,
   "id": "f0a0252b",
   "metadata": {},
   "outputs": [
    {
     "name": "stdout",
     "output_type": "stream",
     "text": [
      "Haezel\\Teresa\n"
     ]
    }
   ],
   "source": [
    "print('Haezel\\\\Teresa')"
   ]
  },
  {
   "cell_type": "code",
   "execution_count": 9,
   "id": "1d969416",
   "metadata": {},
   "outputs": [
    {
     "name": "stdout",
     "output_type": "stream",
     "text": [
      "haezel\n",
      "teresa\n"
     ]
    }
   ],
   "source": [
    "print(\"haezel\\nteresa\")"
   ]
  },
  {
   "cell_type": "code",
   "execution_count": 10,
   "id": "4b6bd049",
   "metadata": {},
   "outputs": [
    {
     "name": "stdout",
     "output_type": "stream",
     "text": [
      "haezel\tteresa\n"
     ]
    }
   ],
   "source": [
    "print('haezel\\tteresa')"
   ]
  },
  {
   "cell_type": "code",
   "execution_count": 13,
   "id": "c7e63df4",
   "metadata": {},
   "outputs": [
    {
     "name": "stdout",
     "output_type": "stream",
     "text": [
      "\\\\\t\\\\\n",
      "\n"
     ]
    }
   ],
   "source": [
    "print(\"\\\\\\\\\\t\\\\\\\\\\n\")"
   ]
  },
  {
   "cell_type": "code",
   "execution_count": 14,
   "id": "9a241b9c",
   "metadata": {},
   "outputs": [
    {
     "data": {
      "text/plain": [
       "'mary'"
      ]
     },
     "execution_count": 14,
     "metadata": {},
     "output_type": "execute_result"
    }
   ],
   "source": [
    "text[0:4]"
   ]
  },
  {
   "cell_type": "code",
   "execution_count": 15,
   "id": "54b414c3",
   "metadata": {},
   "outputs": [
    {
     "data": {
      "text/plain": [
       "'myaaillb'"
      ]
     },
     "execution_count": 15,
     "metadata": {},
     "output_type": "execute_result"
    }
   ],
   "source": [
    "text[::3]"
   ]
  },
  {
   "cell_type": "code",
   "execution_count": 17,
   "id": "1741fed4",
   "metadata": {},
   "outputs": [
    {
     "data": {
      "text/plain": [
       "'ittle lam'"
      ]
     },
     "execution_count": 17,
     "metadata": {},
     "output_type": "execute_result"
    }
   ],
   "source": [
    "text[-10:-1]"
   ]
  },
  {
   "cell_type": "code",
   "execution_count": 1,
   "id": "096e0cfb",
   "metadata": {},
   "outputs": [],
   "source": [
    "string1 =\"Welcome to Npower Canada\""
   ]
  },
  {
   "cell_type": "code",
   "execution_count": 3,
   "id": "897777cc",
   "metadata": {},
   "outputs": [
    {
     "name": "stdout",
     "output_type": "stream",
     "text": [
      "e\n"
     ]
    }
   ],
   "source": [
    "print(string1[1])"
   ]
  },
  {
   "cell_type": "code",
   "execution_count": 4,
   "id": "2e2bd3cf",
   "metadata": {},
   "outputs": [
    {
     "name": "stdout",
     "output_type": "stream",
     "text": [
      "tom andjerry\n"
     ]
    }
   ],
   "source": [
    "s=\"tom and\"+\"jerry\"\n",
    "print(s)"
   ]
  },
  {
   "cell_type": "code",
   "execution_count": 8,
   "id": "1776081f",
   "metadata": {},
   "outputs": [
    {
     "name": "stdout",
     "output_type": "stream",
     "text": [
      "I am the best\tI am the best\tI am the best\t\n"
     ]
    }
   ],
   "source": [
    "s=\"I am the best\\t\"*3\n",
    "print(s)"
   ]
  },
  {
   "cell_type": "code",
   "execution_count": 9,
   "id": "f34d4f1d",
   "metadata": {},
   "outputs": [
    {
     "data": {
      "text/plain": [
       "'t'"
      ]
     },
     "execution_count": 9,
     "metadata": {},
     "output_type": "execute_result"
    }
   ],
   "source": [
    "max(s)"
   ]
  },
  {
   "cell_type": "code",
   "execution_count": 10,
   "id": "6676925b",
   "metadata": {},
   "outputs": [
    {
     "data": {
      "text/plain": [
       "'\\t'"
      ]
     },
     "execution_count": 10,
     "metadata": {},
     "output_type": "execute_result"
    }
   ],
   "source": [
    "min(s)"
   ]
  },
  {
   "cell_type": "code",
   "execution_count": 11,
   "id": "6027d264",
   "metadata": {},
   "outputs": [
    {
     "data": {
      "text/plain": [
       "42"
      ]
     },
     "execution_count": 11,
     "metadata": {},
     "output_type": "execute_result"
    }
   ],
   "source": [
    "len(s)"
   ]
  },
  {
   "cell_type": "code",
   "execution_count": 12,
   "id": "68039508",
   "metadata": {},
   "outputs": [
    {
     "data": {
      "text/plain": [
       "True"
      ]
     },
     "execution_count": 12,
     "metadata": {},
     "output_type": "execute_result"
    }
   ],
   "source": [
    "'am' in s"
   ]
  },
  {
   "cell_type": "code",
   "execution_count": 13,
   "id": "2326ee50",
   "metadata": {},
   "outputs": [
    {
     "data": {
      "text/plain": [
       "False"
      ]
     },
     "execution_count": 13,
     "metadata": {},
     "output_type": "execute_result"
    }
   ],
   "source": [
    "'am' not in s"
   ]
  },
  {
   "cell_type": "code",
   "execution_count": 14,
   "id": "ad049a8e",
   "metadata": {},
   "outputs": [
    {
     "data": {
      "text/plain": [
       "False"
      ]
     },
     "execution_count": 14,
     "metadata": {},
     "output_type": "execute_result"
    }
   ],
   "source": [
    "'Am' in s"
   ]
  },
  {
   "cell_type": "code",
   "execution_count": 15,
   "id": "c1f17644",
   "metadata": {},
   "outputs": [
    {
     "data": {
      "text/plain": [
       "True"
      ]
     },
     "execution_count": 15,
     "metadata": {},
     "output_type": "execute_result"
    }
   ],
   "source": [
    "'Am' not in s"
   ]
  },
  {
   "cell_type": "code",
   "execution_count": 21,
   "id": "9e874fc0",
   "metadata": {},
   "outputs": [
    {
     "data": {
      "text/plain": [
       "'Haezel'"
      ]
     },
     "execution_count": 21,
     "metadata": {},
     "output_type": "execute_result"
    }
   ],
   "source": [
    "String=\"haezel\"\n",
    "String.capitalize()\n"
   ]
  },
  {
   "cell_type": "code",
   "execution_count": null,
   "id": "a8eb0fa0",
   "metadata": {},
   "outputs": [],
   "source": []
  },
  {
   "cell_type": "code",
   "execution_count": null,
   "id": "4655b56d",
   "metadata": {},
   "outputs": [],
   "source": []
  }
 ],
 "metadata": {
  "kernelspec": {
   "display_name": "Python 3 (ipykernel)",
   "language": "python",
   "name": "python3"
  },
  "language_info": {
   "codemirror_mode": {
    "name": "ipython",
    "version": 3
   },
   "file_extension": ".py",
   "mimetype": "text/x-python",
   "name": "python",
   "nbconvert_exporter": "python",
   "pygments_lexer": "ipython3",
   "version": "3.9.13"
  }
 },
 "nbformat": 4,
 "nbformat_minor": 5
}
