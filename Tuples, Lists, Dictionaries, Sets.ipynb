{
 "cells": [
  {
   "cell_type": "markdown",
   "id": "ede5683e",
   "metadata": {},
   "source": [
    "# Tuples"
   ]
  },
  {
   "cell_type": "code",
   "execution_count": 1,
   "id": "6d7ef28d",
   "metadata": {},
   "outputs": [
    {
     "data": {
      "text/plain": [
       "8"
      ]
     },
     "execution_count": 1,
     "metadata": {},
     "output_type": "execute_result"
    }
   ],
   "source": [
    "Ratings=(10,9,4,8,2,10,7,6)\n",
    "len(Ratings)"
   ]
  },
  {
   "cell_type": "code",
   "execution_count": 2,
   "id": "6082d9de",
   "metadata": {},
   "outputs": [
    {
     "name": "stdout",
     "output_type": "stream",
     "text": [
      "(10, 9, 4, 8, 2, 10, 7, 6, 'haezel', 1.78)\n"
     ]
    }
   ],
   "source": [
    "tuple2=Ratings+(\"haezel\",1.78)\n",
    "print(tuple2)"
   ]
  },
  {
   "cell_type": "code",
   "execution_count": 3,
   "id": "353fc5e1",
   "metadata": {},
   "outputs": [
    {
     "data": {
      "text/plain": [
       "(10, 9, 4, 8, 2, 10, 7, 6, 'haezel', 1.78)"
      ]
     },
     "execution_count": 3,
     "metadata": {},
     "output_type": "execute_result"
    }
   ],
   "source": [
    "tuple2"
   ]
  },
  {
   "cell_type": "code",
   "execution_count": 4,
   "id": "b928b833",
   "metadata": {},
   "outputs": [
    {
     "data": {
      "text/plain": [
       "(10, 9, 4, 8, 2)"
      ]
     },
     "execution_count": 4,
     "metadata": {},
     "output_type": "execute_result"
    }
   ],
   "source": [
    "tuple2[0:5]"
   ]
  },
  {
   "cell_type": "code",
   "execution_count": 5,
   "id": "c9bff182",
   "metadata": {},
   "outputs": [
    {
     "data": {
      "text/plain": [
       "(10, 7, 6, 'haezel')"
      ]
     },
     "execution_count": 5,
     "metadata": {},
     "output_type": "execute_result"
    }
   ],
   "source": [
    "tuple2[5:9]"
   ]
  },
  {
   "cell_type": "code",
   "execution_count": 6,
   "id": "5606bcc7",
   "metadata": {},
   "outputs": [
    {
     "data": {
      "text/plain": [
       "(10, 1.78)"
      ]
     },
     "execution_count": 6,
     "metadata": {},
     "output_type": "execute_result"
    }
   ],
   "source": [
    "tuple2[::9]"
   ]
  },
  {
   "cell_type": "code",
   "execution_count": 7,
   "id": "11c8a40b",
   "metadata": {},
   "outputs": [
    {
     "data": {
      "text/plain": [
       "(10, 9, 4, 8, 2, 10, 7, 6, 'haezel', 1.78)"
      ]
     },
     "execution_count": 7,
     "metadata": {},
     "output_type": "execute_result"
    }
   ],
   "source": [
    "tuple2[0::]"
   ]
  },
  {
   "cell_type": "code",
   "execution_count": 8,
   "id": "a66c6643",
   "metadata": {},
   "outputs": [
    {
     "data": {
      "text/plain": [
       "(7, 6, 'haezel', 1.78)"
      ]
     },
     "execution_count": 8,
     "metadata": {},
     "output_type": "execute_result"
    }
   ],
   "source": [
    "tuple2[6::]"
   ]
  },
  {
   "cell_type": "code",
   "execution_count": 9,
   "id": "94683b39",
   "metadata": {},
   "outputs": [
    {
     "data": {
      "text/plain": [
       "10"
      ]
     },
     "execution_count": 9,
     "metadata": {},
     "output_type": "execute_result"
    }
   ],
   "source": [
    "len(tuple2)"
   ]
  },
  {
   "cell_type": "code",
   "execution_count": 11,
   "id": "617f7325",
   "metadata": {},
   "outputs": [
    {
     "data": {
      "text/plain": [
       "(10, 'haezel')"
      ]
     },
     "execution_count": 11,
     "metadata": {},
     "output_type": "execute_result"
    }
   ],
   "source": [
    "tuple2[::8]"
   ]
  },
  {
   "cell_type": "code",
   "execution_count": 14,
   "id": "20062b60",
   "metadata": {},
   "outputs": [
    {
     "data": {
      "text/plain": [
       "(4, 8)"
      ]
     },
     "execution_count": 14,
     "metadata": {},
     "output_type": "execute_result"
    }
   ],
   "source": [
    "tuple2[2:4]"
   ]
  },
  {
   "cell_type": "code",
   "execution_count": 20,
   "id": "38201ece",
   "metadata": {},
   "outputs": [
    {
     "data": {
      "text/plain": [
       "(10, 9, 4, 8, 2, 10, 7, 6, 'haezel')"
      ]
     },
     "execution_count": 20,
     "metadata": {},
     "output_type": "execute_result"
    }
   ],
   "source": [
    "tuple2[-11:-1]"
   ]
  },
  {
   "cell_type": "code",
   "execution_count": 21,
   "id": "65e2d792",
   "metadata": {},
   "outputs": [
    {
     "data": {
      "text/plain": [
       "1.78"
      ]
     },
     "execution_count": 21,
     "metadata": {},
     "output_type": "execute_result"
    }
   ],
   "source": [
    "tuple2[-1]"
   ]
  },
  {
   "cell_type": "code",
   "execution_count": 23,
   "id": "31a8cc7a",
   "metadata": {},
   "outputs": [
    {
     "data": {
      "text/plain": [
       "10"
      ]
     },
     "execution_count": 23,
     "metadata": {},
     "output_type": "execute_result"
    }
   ],
   "source": [
    "tuple2[-10]"
   ]
  },
  {
   "cell_type": "code",
   "execution_count": 24,
   "id": "afe3b397",
   "metadata": {},
   "outputs": [],
   "source": [
    "ratings1=Ratings"
   ]
  },
  {
   "cell_type": "code",
   "execution_count": 26,
   "id": "03b5d3a1",
   "metadata": {},
   "outputs": [
    {
     "data": {
      "text/plain": [
       "(10, 9, 4, 8, 2, 10, 7, 6)"
      ]
     },
     "execution_count": 26,
     "metadata": {},
     "output_type": "execute_result"
    }
   ],
   "source": [
    "ratings1"
   ]
  },
  {
   "cell_type": "code",
   "execution_count": 27,
   "id": "9bdff220",
   "metadata": {},
   "outputs": [
    {
     "ename": "TypeError",
     "evalue": "'tuple' object does not support item assignment",
     "output_type": "error",
     "traceback": [
      "\u001b[1;31m---------------------------------------------------------------------------\u001b[0m",
      "\u001b[1;31mTypeError\u001b[0m                                 Traceback (most recent call last)",
      "\u001b[1;32m~\\AppData\\Local\\Temp\\ipykernel_15600\\2132199201.py\u001b[0m in \u001b[0;36m<module>\u001b[1;34m\u001b[0m\n\u001b[1;32m----> 1\u001b[1;33m \u001b[0mratings1\u001b[0m\u001b[1;33m[\u001b[0m\u001b[1;36m2\u001b[0m\u001b[1;33m]\u001b[0m\u001b[1;33m=\u001b[0m\u001b[1;36m7\u001b[0m\u001b[1;33m\u001b[0m\u001b[1;33m\u001b[0m\u001b[0m\n\u001b[0m",
      "\u001b[1;31mTypeError\u001b[0m: 'tuple' object does not support item assignment"
     ]
    }
   ],
   "source": [
    "ratings1[2]=7"
   ]
  },
  {
   "cell_type": "code",
   "execution_count": 28,
   "id": "243d48f1",
   "metadata": {},
   "outputs": [],
   "source": [
    "ratings1=sorted(Ratings)"
   ]
  },
  {
   "cell_type": "code",
   "execution_count": 29,
   "id": "e933556d",
   "metadata": {},
   "outputs": [
    {
     "data": {
      "text/plain": [
       "[2, 4, 6, 7, 8, 9, 10, 10]"
      ]
     },
     "execution_count": 29,
     "metadata": {},
     "output_type": "execute_result"
    }
   ],
   "source": [
    "ratings1"
   ]
  },
  {
   "cell_type": "code",
   "execution_count": 30,
   "id": "1adb3d35",
   "metadata": {},
   "outputs": [],
   "source": [
    "NT=(1,2,('pop','rock'),(3,4),(\"disco\",(1,2)))"
   ]
  },
  {
   "cell_type": "code",
   "execution_count": 31,
   "id": "cf28b495",
   "metadata": {},
   "outputs": [
    {
     "data": {
      "text/plain": [
       "1"
      ]
     },
     "execution_count": 31,
     "metadata": {},
     "output_type": "execute_result"
    }
   ],
   "source": [
    "NT[0]"
   ]
  },
  {
   "cell_type": "code",
   "execution_count": 32,
   "id": "217a297f",
   "metadata": {},
   "outputs": [
    {
     "data": {
      "text/plain": [
       "2"
      ]
     },
     "execution_count": 32,
     "metadata": {},
     "output_type": "execute_result"
    }
   ],
   "source": [
    "NT[1]"
   ]
  },
  {
   "cell_type": "code",
   "execution_count": 33,
   "id": "8a60db57",
   "metadata": {},
   "outputs": [
    {
     "data": {
      "text/plain": [
       "(3, 4)"
      ]
     },
     "execution_count": 33,
     "metadata": {},
     "output_type": "execute_result"
    }
   ],
   "source": [
    "NT[3]"
   ]
  },
  {
   "cell_type": "code",
   "execution_count": 34,
   "id": "69544444",
   "metadata": {},
   "outputs": [
    {
     "data": {
      "text/plain": [
       "(3, 4)"
      ]
     },
     "execution_count": 34,
     "metadata": {},
     "output_type": "execute_result"
    }
   ],
   "source": [
    "NT[3][0],NT[3][1]"
   ]
  },
  {
   "cell_type": "code",
   "execution_count": 35,
   "id": "49b86256",
   "metadata": {},
   "outputs": [
    {
     "data": {
      "text/plain": [
       "4"
      ]
     },
     "execution_count": 35,
     "metadata": {},
     "output_type": "execute_result"
    }
   ],
   "source": [
    "NT[3][1]"
   ]
  },
  {
   "cell_type": "code",
   "execution_count": 36,
   "id": "3dcb6362",
   "metadata": {},
   "outputs": [
    {
     "data": {
      "text/plain": [
       "('pop', 'rock')"
      ]
     },
     "execution_count": 36,
     "metadata": {},
     "output_type": "execute_result"
    }
   ],
   "source": [
    "NT[2]"
   ]
  },
  {
   "cell_type": "code",
   "execution_count": 37,
   "id": "e4ab3e39",
   "metadata": {},
   "outputs": [
    {
     "data": {
      "text/plain": [
       "('disco', (1, 2))"
      ]
     },
     "execution_count": 37,
     "metadata": {},
     "output_type": "execute_result"
    }
   ],
   "source": [
    "NT[4]"
   ]
  },
  {
   "cell_type": "code",
   "execution_count": 38,
   "id": "14d79f92",
   "metadata": {},
   "outputs": [
    {
     "data": {
      "text/plain": [
       "1"
      ]
     },
     "execution_count": 38,
     "metadata": {},
     "output_type": "execute_result"
    }
   ],
   "source": [
    "NT[4][1][0]"
   ]
  },
  {
   "cell_type": "code",
   "execution_count": 39,
   "id": "5557f0a0",
   "metadata": {},
   "outputs": [
    {
     "data": {
      "text/plain": [
       "'disco'"
      ]
     },
     "execution_count": 39,
     "metadata": {},
     "output_type": "execute_result"
    }
   ],
   "source": [
    "NT[4][0]"
   ]
  },
  {
   "cell_type": "code",
   "execution_count": 40,
   "id": "0f52c0bf",
   "metadata": {},
   "outputs": [
    {
     "data": {
      "text/plain": [
       "(1, 2, ('pop', 'rock'), (3, 4), ('disco', (1, 2)))"
      ]
     },
     "execution_count": 40,
     "metadata": {},
     "output_type": "execute_result"
    }
   ],
   "source": [
    "NT"
   ]
  },
  {
   "cell_type": "code",
   "execution_count": 42,
   "id": "a204ec4e",
   "metadata": {},
   "outputs": [
    {
     "data": {
      "text/plain": [
       "'p'"
      ]
     },
     "execution_count": 42,
     "metadata": {},
     "output_type": "execute_result"
    }
   ],
   "source": [
    "NT[2][0][2]"
   ]
  },
  {
   "cell_type": "markdown",
   "id": "bf3ac132",
   "metadata": {},
   "source": [
    "# Lists"
   ]
  },
  {
   "cell_type": "code",
   "execution_count": 2,
   "id": "3d05c816",
   "metadata": {},
   "outputs": [
    {
     "data": {
      "text/plain": [
       "[]"
      ]
     },
     "execution_count": 2,
     "metadata": {},
     "output_type": "execute_result"
    }
   ],
   "source": [
    "L1=list()\n",
    "L1"
   ]
  },
  {
   "cell_type": "code",
   "execution_count": 45,
   "id": "c12d8dc1",
   "metadata": {},
   "outputs": [
    {
     "data": {
      "text/plain": [
       "['MJ', 10.2, 1956, [2, 7], ('A', 3)]"
      ]
     },
     "execution_count": 45,
     "metadata": {},
     "output_type": "execute_result"
    }
   ],
   "source": [
    "L=[\"MJ\",10.2,1956,[2,7],(\"A\",3)]\n",
    "L"
   ]
  },
  {
   "cell_type": "code",
   "execution_count": 46,
   "id": "50bc0590",
   "metadata": {},
   "outputs": [
    {
     "data": {
      "text/plain": [
       "'MJ'"
      ]
     },
     "execution_count": 46,
     "metadata": {},
     "output_type": "execute_result"
    }
   ],
   "source": [
    "L[0]"
   ]
  },
  {
   "cell_type": "code",
   "execution_count": 47,
   "id": "50895e6f",
   "metadata": {},
   "outputs": [
    {
     "data": {
      "text/plain": [
       "[2, 7]"
      ]
     },
     "execution_count": 47,
     "metadata": {},
     "output_type": "execute_result"
    }
   ],
   "source": [
    "L[-2]"
   ]
  },
  {
   "cell_type": "code",
   "execution_count": 49,
   "id": "f20b4575",
   "metadata": {},
   "outputs": [
    {
     "data": {
      "text/plain": [
       "[1956, [2, 7], ('A', 3)]"
      ]
     },
     "execution_count": 49,
     "metadata": {},
     "output_type": "execute_result"
    }
   ],
   "source": [
    "L[2:6]"
   ]
  },
  {
   "cell_type": "code",
   "execution_count": 50,
   "id": "3307ba8a",
   "metadata": {},
   "outputs": [],
   "source": [
    "L1=L+[\"pop\",45]"
   ]
  },
  {
   "cell_type": "code",
   "execution_count": 51,
   "id": "0ec29448",
   "metadata": {},
   "outputs": [
    {
     "data": {
      "text/plain": [
       "['MJ', 10.2, 1956, [2, 7], ('A', 3), 'pop', 45]"
      ]
     },
     "execution_count": 51,
     "metadata": {},
     "output_type": "execute_result"
    }
   ],
   "source": [
    "L1"
   ]
  },
  {
   "cell_type": "code",
   "execution_count": 52,
   "id": "09d1e64f",
   "metadata": {},
   "outputs": [
    {
     "data": {
      "text/plain": [
       "[1, 1, 1, 7, 8, 9]"
      ]
     },
     "execution_count": 52,
     "metadata": {},
     "output_type": "execute_result"
    }
   ],
   "source": [
    "[1,1,1]+[7,8,9]"
   ]
  },
  {
   "cell_type": "code",
   "execution_count": 53,
   "id": "cb411080",
   "metadata": {},
   "outputs": [],
   "source": [
    "L.extend([\"ammu\",1990])"
   ]
  },
  {
   "cell_type": "code",
   "execution_count": 54,
   "id": "6c44bfe1",
   "metadata": {},
   "outputs": [
    {
     "data": {
      "text/plain": [
       "['MJ', 10.2, 1956, [2, 7], ('A', 3), 'ammu', 1990]"
      ]
     },
     "execution_count": 54,
     "metadata": {},
     "output_type": "execute_result"
    }
   ],
   "source": [
    "L"
   ]
  },
  {
   "cell_type": "code",
   "execution_count": 55,
   "id": "68706d3e",
   "metadata": {},
   "outputs": [],
   "source": [
    "L.append([\"jithu\",1989])"
   ]
  },
  {
   "cell_type": "code",
   "execution_count": 56,
   "id": "9737249d",
   "metadata": {},
   "outputs": [
    {
     "data": {
      "text/plain": [
       "['MJ', 10.2, 1956, [2, 7], ('A', 3), 'ammu', 1990, ['jithu', 1989]]"
      ]
     },
     "execution_count": 56,
     "metadata": {},
     "output_type": "execute_result"
    }
   ],
   "source": [
    "L"
   ]
  },
  {
   "cell_type": "code",
   "execution_count": 57,
   "id": "cc8c4300",
   "metadata": {},
   "outputs": [
    {
     "data": {
      "text/plain": [
       "['jithu', 1989]"
      ]
     },
     "execution_count": 57,
     "metadata": {},
     "output_type": "execute_result"
    }
   ],
   "source": [
    "L[-1]"
   ]
  },
  {
   "cell_type": "code",
   "execution_count": 58,
   "id": "ba775227",
   "metadata": {},
   "outputs": [
    {
     "data": {
      "text/plain": [
       "8"
      ]
     },
     "execution_count": 58,
     "metadata": {},
     "output_type": "execute_result"
    }
   ],
   "source": [
    "len(L)"
   ]
  },
  {
   "cell_type": "code",
   "execution_count": 59,
   "id": "785a1d90",
   "metadata": {},
   "outputs": [],
   "source": [
    "A=[\"d\",20,8.9]"
   ]
  },
  {
   "cell_type": "code",
   "execution_count": 60,
   "id": "c8616481",
   "metadata": {},
   "outputs": [],
   "source": [
    "A[0]=\"u\""
   ]
  },
  {
   "cell_type": "code",
   "execution_count": 61,
   "id": "1bd0efe6",
   "metadata": {},
   "outputs": [
    {
     "data": {
      "text/plain": [
       "['u', 20, 8.9]"
      ]
     },
     "execution_count": 61,
     "metadata": {},
     "output_type": "execute_result"
    }
   ],
   "source": [
    "A"
   ]
  },
  {
   "cell_type": "code",
   "execution_count": 62,
   "id": "3309e000",
   "metadata": {},
   "outputs": [],
   "source": [
    "del(A[1])"
   ]
  },
  {
   "cell_type": "code",
   "execution_count": 63,
   "id": "499f83a0",
   "metadata": {},
   "outputs": [
    {
     "data": {
      "text/plain": [
       "['u', 8.9]"
      ]
     },
     "execution_count": 63,
     "metadata": {},
     "output_type": "execute_result"
    }
   ],
   "source": [
    "A"
   ]
  },
  {
   "cell_type": "code",
   "execution_count": 64,
   "id": "bf3b2023",
   "metadata": {},
   "outputs": [],
   "source": [
    "A[0]=\"Amrita Agnes\""
   ]
  },
  {
   "cell_type": "code",
   "execution_count": 65,
   "id": "e527320a",
   "metadata": {},
   "outputs": [
    {
     "data": {
      "text/plain": [
       "['Amrita Agnes', 8.9]"
      ]
     },
     "execution_count": 65,
     "metadata": {},
     "output_type": "execute_result"
    }
   ],
   "source": [
    "A"
   ]
  },
  {
   "cell_type": "code",
   "execution_count": 66,
   "id": "8de478c6",
   "metadata": {},
   "outputs": [
    {
     "data": {
      "text/plain": [
       "['Haezel', 'Teresa', 'Jithin']"
      ]
     },
     "execution_count": 66,
     "metadata": {},
     "output_type": "execute_result"
    }
   ],
   "source": [
    "\"Haezel Teresa Jithin\".split()"
   ]
  },
  {
   "cell_type": "code",
   "execution_count": 67,
   "id": "f3407b94",
   "metadata": {},
   "outputs": [
    {
     "data": {
      "text/plain": [
       "['abc']"
      ]
     },
     "execution_count": 67,
     "metadata": {},
     "output_type": "execute_result"
    }
   ],
   "source": [
    "\"abc\".split()"
   ]
  },
  {
   "cell_type": "code",
   "execution_count": 68,
   "id": "31347c35",
   "metadata": {},
   "outputs": [
    {
     "data": {
      "text/plain": [
       "['a', 'b', 'c']"
      ]
     },
     "execution_count": 68,
     "metadata": {},
     "output_type": "execute_result"
    }
   ],
   "source": [
    "\"a b c\".split(\" \")"
   ]
  },
  {
   "cell_type": "code",
   "execution_count": 69,
   "id": "c30cb245",
   "metadata": {},
   "outputs": [
    {
     "data": {
      "text/plain": [
       "['a', 'b', 'c', 'd']"
      ]
     },
     "execution_count": 69,
     "metadata": {},
     "output_type": "execute_result"
    }
   ],
   "source": [
    "\"a,b,c,d\".split(\",\")"
   ]
  },
  {
   "cell_type": "code",
   "execution_count": 70,
   "id": "db87b133",
   "metadata": {},
   "outputs": [],
   "source": [
    "B=A"
   ]
  },
  {
   "cell_type": "code",
   "execution_count": 71,
   "id": "1940d8be",
   "metadata": {},
   "outputs": [
    {
     "data": {
      "text/plain": [
       "['Amrita Agnes', 8.9]"
      ]
     },
     "execution_count": 71,
     "metadata": {},
     "output_type": "execute_result"
    }
   ],
   "source": [
    "B"
   ]
  },
  {
   "cell_type": "code",
   "execution_count": 72,
   "id": "fb914bf2",
   "metadata": {},
   "outputs": [],
   "source": [
    "A[0]=\"banana\""
   ]
  },
  {
   "cell_type": "code",
   "execution_count": 73,
   "id": "d4c5e343",
   "metadata": {},
   "outputs": [
    {
     "data": {
      "text/plain": [
       "['banana', 8.9]"
      ]
     },
     "execution_count": 73,
     "metadata": {},
     "output_type": "execute_result"
    }
   ],
   "source": [
    "B"
   ]
  },
  {
   "cell_type": "code",
   "execution_count": 74,
   "id": "bacd7b9f",
   "metadata": {},
   "outputs": [],
   "source": [
    "C=A[:]"
   ]
  },
  {
   "cell_type": "code",
   "execution_count": 75,
   "id": "918fefa2",
   "metadata": {},
   "outputs": [],
   "source": [
    "A[1]=9"
   ]
  },
  {
   "cell_type": "code",
   "execution_count": 76,
   "id": "270980ec",
   "metadata": {},
   "outputs": [
    {
     "data": {
      "text/plain": [
       "['banana', 8.9]"
      ]
     },
     "execution_count": 76,
     "metadata": {},
     "output_type": "execute_result"
    }
   ],
   "source": [
    "C"
   ]
  },
  {
   "cell_type": "code",
   "execution_count": 77,
   "id": "caa252ad",
   "metadata": {},
   "outputs": [
    {
     "data": {
      "text/plain": [
       "['banana', 9]"
      ]
     },
     "execution_count": 77,
     "metadata": {},
     "output_type": "execute_result"
    }
   ],
   "source": [
    "A"
   ]
  },
  {
   "cell_type": "code",
   "execution_count": 79,
   "id": "4d9a1fe6",
   "metadata": {},
   "outputs": [
    {
     "name": "stdout",
     "output_type": "stream",
     "text": [
      "Help on list object:\n",
      "\n",
      "class list(object)\n",
      " |  list(iterable=(), /)\n",
      " |  \n",
      " |  Built-in mutable sequence.\n",
      " |  \n",
      " |  If no argument is given, the constructor creates a new empty list.\n",
      " |  The argument must be an iterable if specified.\n",
      " |  \n",
      " |  Methods defined here:\n",
      " |  \n",
      " |  __add__(self, value, /)\n",
      " |      Return self+value.\n",
      " |  \n",
      " |  __contains__(self, key, /)\n",
      " |      Return key in self.\n",
      " |  \n",
      " |  __delitem__(self, key, /)\n",
      " |      Delete self[key].\n",
      " |  \n",
      " |  __eq__(self, value, /)\n",
      " |      Return self==value.\n",
      " |  \n",
      " |  __ge__(self, value, /)\n",
      " |      Return self>=value.\n",
      " |  \n",
      " |  __getattribute__(self, name, /)\n",
      " |      Return getattr(self, name).\n",
      " |  \n",
      " |  __getitem__(...)\n",
      " |      x.__getitem__(y) <==> x[y]\n",
      " |  \n",
      " |  __gt__(self, value, /)\n",
      " |      Return self>value.\n",
      " |  \n",
      " |  __iadd__(self, value, /)\n",
      " |      Implement self+=value.\n",
      " |  \n",
      " |  __imul__(self, value, /)\n",
      " |      Implement self*=value.\n",
      " |  \n",
      " |  __init__(self, /, *args, **kwargs)\n",
      " |      Initialize self.  See help(type(self)) for accurate signature.\n",
      " |  \n",
      " |  __iter__(self, /)\n",
      " |      Implement iter(self).\n",
      " |  \n",
      " |  __le__(self, value, /)\n",
      " |      Return self<=value.\n",
      " |  \n",
      " |  __len__(self, /)\n",
      " |      Return len(self).\n",
      " |  \n",
      " |  __lt__(self, value, /)\n",
      " |      Return self<value.\n",
      " |  \n",
      " |  __mul__(self, value, /)\n",
      " |      Return self*value.\n",
      " |  \n",
      " |  __ne__(self, value, /)\n",
      " |      Return self!=value.\n",
      " |  \n",
      " |  __repr__(self, /)\n",
      " |      Return repr(self).\n",
      " |  \n",
      " |  __reversed__(self, /)\n",
      " |      Return a reverse iterator over the list.\n",
      " |  \n",
      " |  __rmul__(self, value, /)\n",
      " |      Return value*self.\n",
      " |  \n",
      " |  __setitem__(self, key, value, /)\n",
      " |      Set self[key] to value.\n",
      " |  \n",
      " |  __sizeof__(self, /)\n",
      " |      Return the size of the list in memory, in bytes.\n",
      " |  \n",
      " |  append(self, object, /)\n",
      " |      Append object to the end of the list.\n",
      " |  \n",
      " |  clear(self, /)\n",
      " |      Remove all items from list.\n",
      " |  \n",
      " |  copy(self, /)\n",
      " |      Return a shallow copy of the list.\n",
      " |  \n",
      " |  count(self, value, /)\n",
      " |      Return number of occurrences of value.\n",
      " |  \n",
      " |  extend(self, iterable, /)\n",
      " |      Extend list by appending elements from the iterable.\n",
      " |  \n",
      " |  index(self, value, start=0, stop=9223372036854775807, /)\n",
      " |      Return first index of value.\n",
      " |      \n",
      " |      Raises ValueError if the value is not present.\n",
      " |  \n",
      " |  insert(self, index, object, /)\n",
      " |      Insert object before index.\n",
      " |  \n",
      " |  pop(self, index=-1, /)\n",
      " |      Remove and return item at index (default last).\n",
      " |      \n",
      " |      Raises IndexError if list is empty or index is out of range.\n",
      " |  \n",
      " |  remove(self, value, /)\n",
      " |      Remove first occurrence of value.\n",
      " |      \n",
      " |      Raises ValueError if the value is not present.\n",
      " |  \n",
      " |  reverse(self, /)\n",
      " |      Reverse *IN PLACE*.\n",
      " |  \n",
      " |  sort(self, /, *, key=None, reverse=False)\n",
      " |      Sort the list in ascending order and return None.\n",
      " |      \n",
      " |      The sort is in-place (i.e. the list itself is modified) and stable (i.e. the\n",
      " |      order of two equal elements is maintained).\n",
      " |      \n",
      " |      If a key function is given, apply it once to each list item and sort them,\n",
      " |      ascending or descending, according to their function values.\n",
      " |      \n",
      " |      The reverse flag can be set to sort in descending order.\n",
      " |  \n",
      " |  ----------------------------------------------------------------------\n",
      " |  Class methods defined here:\n",
      " |  \n",
      " |  __class_getitem__(...) from builtins.type\n",
      " |      See PEP 585\n",
      " |  \n",
      " |  ----------------------------------------------------------------------\n",
      " |  Static methods defined here:\n",
      " |  \n",
      " |  __new__(*args, **kwargs) from builtins.type\n",
      " |      Create and return a new object.  See help(type) for accurate signature.\n",
      " |  \n",
      " |  ----------------------------------------------------------------------\n",
      " |  Data and other attributes defined here:\n",
      " |  \n",
      " |  __hash__ = None\n",
      "\n"
     ]
    }
   ],
   "source": [
    "help(A)"
   ]
  },
  {
   "cell_type": "code",
   "execution_count": 80,
   "id": "30b4e898",
   "metadata": {},
   "outputs": [],
   "source": [
    "L=[\"Michael Jackson\",10.1,1982,\"MJ\",1]"
   ]
  },
  {
   "cell_type": "code",
   "execution_count": 81,
   "id": "9310b260",
   "metadata": {},
   "outputs": [
    {
     "data": {
      "text/plain": [
       "['MJ', 1]"
      ]
     },
     "execution_count": 81,
     "metadata": {},
     "output_type": "execute_result"
    }
   ],
   "source": [
    "L[3:5]"
   ]
  },
  {
   "cell_type": "code",
   "execution_count": 82,
   "id": "876e516b",
   "metadata": {},
   "outputs": [
    {
     "name": "stdout",
     "output_type": "stream",
     "text": [
      "before change: ['disco', 10, 1.2]\n",
      "after change: ['hard rock', 10, 1.2]\n"
     ]
    }
   ],
   "source": [
    "A=['disco',10,1.2]\n",
    "print('before change:',A)\n",
    "A[0]='hard rock'\n",
    "print('after change:',A)"
   ]
  },
  {
   "cell_type": "code",
   "execution_count": 83,
   "id": "106efd85",
   "metadata": {},
   "outputs": [
    {
     "data": {
      "text/plain": [
       "list"
      ]
     },
     "execution_count": 83,
     "metadata": {},
     "output_type": "execute_result"
    }
   ],
   "source": [
    "type(A)"
   ]
  },
  {
   "cell_type": "code",
   "execution_count": 84,
   "id": "a1295990",
   "metadata": {},
   "outputs": [
    {
     "name": "stdout",
     "output_type": "stream",
     "text": [
      "<class 'str'>\n",
      "<class 'int'>\n",
      "<class 'float'>\n"
     ]
    }
   ],
   "source": [
    "print(type(A[0]))\n",
    "print(type(A[1]))\n",
    "print(type(A[2]))"
   ]
  },
  {
   "cell_type": "code",
   "execution_count": 85,
   "id": "184fcc78",
   "metadata": {},
   "outputs": [
    {
     "data": {
      "text/plain": [
       "3"
      ]
     },
     "execution_count": 85,
     "metadata": {},
     "output_type": "execute_result"
    }
   ],
   "source": [
    "len(A)"
   ]
  },
  {
   "cell_type": "code",
   "execution_count": 87,
   "id": "0d6a79e8",
   "metadata": {},
   "outputs": [
    {
     "data": {
      "text/plain": [
       "0"
      ]
     },
     "execution_count": 87,
     "metadata": {},
     "output_type": "execute_result"
    }
   ],
   "source": [
    "A.index(\"hard rock\")"
   ]
  },
  {
   "cell_type": "markdown",
   "id": "320b4203",
   "metadata": {},
   "source": [
    "# Dictionaries"
   ]
  },
  {
   "cell_type": "code",
   "execution_count": 88,
   "id": "017b6f93",
   "metadata": {},
   "outputs": [
    {
     "data": {
      "text/plain": [
       "{'key1': 1, 'key2': '2', 'key3': [3, 3, 3], 'key 4': (4, 4, 4, 4), 'key5': 5}"
      ]
     },
     "execution_count": 88,
     "metadata": {},
     "output_type": "execute_result"
    }
   ],
   "source": [
    "{\"key1\":1,\"key2\":\"2\",\"key3\":[3,3,3],\"key 4\":(4,4,4,4),('key5'):5}"
   ]
  },
  {
   "cell_type": "code",
   "execution_count": 89,
   "id": "59ecf737",
   "metadata": {},
   "outputs": [],
   "source": [
    "DICT={\"Thriller\":1982,\"Back in Black\":1980,\"The Dark side of Moon\":1973,\"The Bodyguard\":1992}\n"
   ]
  },
  {
   "cell_type": "code",
   "execution_count": 91,
   "id": "a11544eb",
   "metadata": {},
   "outputs": [
    {
     "data": {
      "text/plain": [
       "{'Thriller': 1982,\n",
       " 'Back in Black': 1980,\n",
       " 'The Dark side of Moon': 1973,\n",
       " 'The Bodyguard': 1992}"
      ]
     },
     "execution_count": 91,
     "metadata": {},
     "output_type": "execute_result"
    }
   ],
   "source": [
    "DICT"
   ]
  },
  {
   "cell_type": "code",
   "execution_count": 92,
   "id": "c908dd98",
   "metadata": {},
   "outputs": [
    {
     "data": {
      "text/plain": [
       "1982"
      ]
     },
     "execution_count": 92,
     "metadata": {},
     "output_type": "execute_result"
    }
   ],
   "source": [
    "DICT[\"Thriller\"]"
   ]
  },
  {
   "cell_type": "code",
   "execution_count": 93,
   "id": "8910aa4b",
   "metadata": {},
   "outputs": [],
   "source": [
    "DICT[\"Bat Out of Hell\"]=1977\n",
    "DICT[\"Rumors\"]=1977\n"
   ]
  },
  {
   "cell_type": "code",
   "execution_count": 94,
   "id": "003c6cfe",
   "metadata": {},
   "outputs": [
    {
     "data": {
      "text/plain": [
       "{'Thriller': 1982,\n",
       " 'Back in Black': 1980,\n",
       " 'The Dark side of Moon': 1973,\n",
       " 'The Bodyguard': 1992,\n",
       " 'Bat Out of Hell': 1977,\n",
       " 'Rumors': 1977}"
      ]
     },
     "execution_count": 94,
     "metadata": {},
     "output_type": "execute_result"
    }
   ],
   "source": [
    "DICT"
   ]
  },
  {
   "cell_type": "code",
   "execution_count": 95,
   "id": "fdaeba65",
   "metadata": {},
   "outputs": [],
   "source": [
    "del(DICT[\"Thriller\"])"
   ]
  },
  {
   "cell_type": "code",
   "execution_count": 96,
   "id": "42959859",
   "metadata": {},
   "outputs": [
    {
     "data": {
      "text/plain": [
       "{'Back in Black': 1980,\n",
       " 'The Dark side of Moon': 1973,\n",
       " 'The Bodyguard': 1992,\n",
       " 'Bat Out of Hell': 1977,\n",
       " 'Rumors': 1977}"
      ]
     },
     "execution_count": 96,
     "metadata": {},
     "output_type": "execute_result"
    }
   ],
   "source": [
    "DICT\n"
   ]
  },
  {
   "cell_type": "code",
   "execution_count": 97,
   "id": "ee5446ba",
   "metadata": {},
   "outputs": [
    {
     "data": {
      "text/plain": [
       "True"
      ]
     },
     "execution_count": 97,
     "metadata": {},
     "output_type": "execute_result"
    }
   ],
   "source": [
    "\"Rumors\" in DICT"
   ]
  },
  {
   "cell_type": "code",
   "execution_count": 98,
   "id": "8c2a97e5",
   "metadata": {},
   "outputs": [
    {
     "data": {
      "text/plain": [
       "False"
      ]
     },
     "execution_count": 98,
     "metadata": {},
     "output_type": "execute_result"
    }
   ],
   "source": [
    "1977 in DICT\n"
   ]
  },
  {
   "cell_type": "code",
   "execution_count": 99,
   "id": "2b2cb772",
   "metadata": {},
   "outputs": [
    {
     "data": {
      "text/plain": [
       "False"
      ]
     },
     "execution_count": 99,
     "metadata": {},
     "output_type": "execute_result"
    }
   ],
   "source": [
    "\"Starboy\" in DICT"
   ]
  },
  {
   "cell_type": "code",
   "execution_count": 100,
   "id": "afc1c23b",
   "metadata": {},
   "outputs": [
    {
     "data": {
      "text/plain": [
       "dict_keys(['Back in Black', 'The Dark side of Moon', 'The Bodyguard', 'Bat Out of Hell', 'Rumors'])"
      ]
     },
     "execution_count": 100,
     "metadata": {},
     "output_type": "execute_result"
    }
   ],
   "source": [
    "DICT.keys()"
   ]
  },
  {
   "cell_type": "code",
   "execution_count": 101,
   "id": "acca8a7b",
   "metadata": {},
   "outputs": [],
   "source": [
    "DICT[(0,6)]=[\"abc\",4,9.4]"
   ]
  },
  {
   "cell_type": "code",
   "execution_count": 102,
   "id": "3a0bb3fd",
   "metadata": {},
   "outputs": [
    {
     "data": {
      "text/plain": [
       "{'Back in Black': 1980,\n",
       " 'The Dark side of Moon': 1973,\n",
       " 'The Bodyguard': 1992,\n",
       " 'Bat Out of Hell': 1977,\n",
       " 'Rumors': 1977,\n",
       " (0, 6): ['abc', 4, 9.4]}"
      ]
     },
     "execution_count": 102,
     "metadata": {},
     "output_type": "execute_result"
    }
   ],
   "source": [
    "DICT"
   ]
  },
  {
   "cell_type": "code",
   "execution_count": 103,
   "id": "cfd7b95e",
   "metadata": {},
   "outputs": [
    {
     "ename": "TypeError",
     "evalue": "unhashable type: 'list'",
     "output_type": "error",
     "traceback": [
      "\u001b[1;31m---------------------------------------------------------------------------\u001b[0m",
      "\u001b[1;31mTypeError\u001b[0m                                 Traceback (most recent call last)",
      "\u001b[1;32m~\\AppData\\Local\\Temp\\ipykernel_15600\\3115110903.py\u001b[0m in \u001b[0;36m<module>\u001b[1;34m\u001b[0m\n\u001b[1;32m----> 1\u001b[1;33m \u001b[0mDICT\u001b[0m\u001b[1;33m[\u001b[0m\u001b[1;33m[\u001b[0m\u001b[1;36m1\u001b[0m\u001b[1;33m,\u001b[0m\u001b[1;36m4\u001b[0m\u001b[1;33m]\u001b[0m\u001b[1;33m]\u001b[0m\u001b[1;33m=\u001b[0m\u001b[1;36m1\u001b[0m\u001b[1;33m\u001b[0m\u001b[1;33m\u001b[0m\u001b[0m\n\u001b[0m",
      "\u001b[1;31mTypeError\u001b[0m: unhashable type: 'list'"
     ]
    }
   ],
   "source": [
    "DICT[[1,4]]=1"
   ]
  },
  {
   "cell_type": "code",
   "execution_count": 104,
   "id": "100d1e8c",
   "metadata": {},
   "outputs": [
    {
     "data": {
      "text/plain": [
       "dict_values([1980, 1973, 1992, 1977, 1977, ['abc', 4, 9.4]])"
      ]
     },
     "execution_count": 104,
     "metadata": {},
     "output_type": "execute_result"
    }
   ],
   "source": [
    "DICT.values()"
   ]
  },
  {
   "cell_type": "code",
   "execution_count": 3,
   "id": "14c01fb9",
   "metadata": {},
   "outputs": [
    {
     "ename": "NameError",
     "evalue": "name 'DICT' is not defined",
     "output_type": "error",
     "traceback": [
      "\u001b[1;31m---------------------------------------------------------------------------\u001b[0m",
      "\u001b[1;31mNameError\u001b[0m                                 Traceback (most recent call last)",
      "\u001b[1;32m~\\AppData\\Local\\Temp\\ipykernel_4896\\3336490356.py\u001b[0m in \u001b[0;36m<module>\u001b[1;34m\u001b[0m\n\u001b[1;32m----> 1\u001b[1;33m \u001b[0mhelp\u001b[0m\u001b[1;33m(\u001b[0m\u001b[0mDICT\u001b[0m\u001b[1;33m)\u001b[0m\u001b[1;33m\u001b[0m\u001b[1;33m\u001b[0m\u001b[0m\n\u001b[0m",
      "\u001b[1;31mNameError\u001b[0m: name 'DICT' is not defined"
     ]
    }
   ],
   "source": [
    "help(DICT)"
   ]
  },
  {
   "cell_type": "markdown",
   "id": "5878045a",
   "metadata": {},
   "source": [
    "# Sets-type of collection-unordered-only unique elements"
   ]
  },
  {
   "cell_type": "code",
   "execution_count": 105,
   "id": "21acdcec",
   "metadata": {},
   "outputs": [],
   "source": [
    "Set1={\"pop\",\"rock\",\"soul\",\"Hard rock\",\"rock\",\"R&B\",\"rock\",\"disco\"}"
   ]
  },
  {
   "cell_type": "code",
   "execution_count": 106,
   "id": "0e5f0170",
   "metadata": {},
   "outputs": [
    {
     "data": {
      "text/plain": [
       "{'Hard rock', 'R&B', 'disco', 'pop', 'rock', 'soul'}"
      ]
     },
     "execution_count": 106,
     "metadata": {},
     "output_type": "execute_result"
    }
   ],
   "source": [
    "Set1"
   ]
  },
  {
   "cell_type": "code",
   "execution_count": 107,
   "id": "609b44a5",
   "metadata": {},
   "outputs": [
    {
     "data": {
      "text/plain": [
       "{1982, 'MJ', 'Thriller'}"
      ]
     },
     "execution_count": 107,
     "metadata": {},
     "output_type": "execute_result"
    }
   ],
   "source": [
    "album_list=[\"MJ\",\"Thriller\",\"Thriller\",1982]\n",
    "album_set=set(album_list)#conversion of list to set using set function\n",
    "album_set"
   ]
  },
  {
   "cell_type": "code",
   "execution_count": 108,
   "id": "404bd6e9",
   "metadata": {},
   "outputs": [
    {
     "data": {
      "text/plain": [
       "set"
      ]
     },
     "execution_count": 108,
     "metadata": {},
     "output_type": "execute_result"
    }
   ],
   "source": [
    "type(set([1,2,3]))#finding the data type after set function"
   ]
  },
  {
   "cell_type": "code",
   "execution_count": 130,
   "id": "2a17e011",
   "metadata": {},
   "outputs": [
    {
     "data": {
      "text/plain": [
       "{'AC/DC', 'Back in Black', 'NSYNC', 'Thriller'}"
      ]
     },
     "execution_count": 130,
     "metadata": {},
     "output_type": "execute_result"
    }
   ],
   "source": [
    "A={\"Thriller\",\"Back in Black\",\"AC/DC\"}\n",
    "A.add(\"NSYNC\")#adding an item to set using add method\n",
    "A"
   ]
  },
  {
   "cell_type": "code",
   "execution_count": 131,
   "id": "465fcfc1",
   "metadata": {},
   "outputs": [
    {
     "data": {
      "text/plain": [
       "{'AC/DC', 'Back in Black', 'NSYNC', 'Thriller'}"
      ]
     },
     "execution_count": 131,
     "metadata": {},
     "output_type": "execute_result"
    }
   ],
   "source": [
    "A.add(\"Thriller\")#adding same item twice \n",
    "A"
   ]
  },
  {
   "cell_type": "code",
   "execution_count": 133,
   "id": "25fdce77",
   "metadata": {},
   "outputs": [
    {
     "name": "stdout",
     "output_type": "stream",
     "text": [
      "{'NSYNC', 'Thriller', 'AC/DC', 'Back in Black'}\n",
      "{'NSYNC', 'AC/DC', 'Back in Black'}\n"
     ]
    }
   ],
   "source": [
    "#used to remove an item from set\n",
    "print(A)\n",
    "A.remove(\"Thriller\")\n",
    "print(A)"
   ]
  },
  {
   "cell_type": "code",
   "execution_count": 128,
   "id": "0655fa27",
   "metadata": {},
   "outputs": [
    {
     "name": "stdout",
     "output_type": "stream",
     "text": [
      "True\n",
      "False\n"
     ]
    }
   ],
   "source": [
    "#Verify if the element is in set using in command\n",
    "print(\"AC/DC\" in A)\n",
    "print(\"Who\" in A)"
   ]
  },
  {
   "cell_type": "code",
   "execution_count": 145,
   "id": "5ee7b354",
   "metadata": {},
   "outputs": [
    {
     "name": "stdout",
     "output_type": "stream",
     "text": [
      "{'Thriller'}\n",
      "using &: {'AC/DC', 'Back in Black'} using intersection function: {'AC/DC', 'Back in Black'} {'AC/DC', 'Thriller', 'The Dark side of the Moon', 'Back in Black'}\n"
     ]
    },
    {
     "data": {
      "text/plain": [
       "True"
      ]
     },
     "execution_count": 145,
     "metadata": {},
     "output_type": "execute_result"
    }
   ],
   "source": [
    "#Mathematical Set Operations\n",
    "album_set1={\"AC/DC\",\"Back in Black\",\"Thriller\"}\n",
    "album_set2={\"AC/DC\",\"Back in Black\",\"The Dark side of the Moon\"}\n",
    "album_set3=album_set1 & album_set2 #inersection of two sets\n",
    "album_setint=album_set1.intersection(album_set2)#using intersection function\n",
    "album_diffset=album_set1.difference(album_set2)#difference of two sets, won't include the intersection values\n",
    "print(album_diffset)\n",
    "album_set4=album_set1.union(album_set2)#find unioin of two sets\n",
    "print(\"using &:\",album_set3,\"using intersection function:\",album_setint,album_set4)\n",
    "album_set3.issubset(album_set1)# To find if a set is a subset of another set"
   ]
  },
  {
   "cell_type": "code",
   "execution_count": null,
   "id": "30328c89",
   "metadata": {},
   "outputs": [],
   "source": []
  }
 ],
 "metadata": {
  "kernelspec": {
   "display_name": "Python 3 (ipykernel)",
   "language": "python",
   "name": "python3"
  },
  "language_info": {
   "codemirror_mode": {
    "name": "ipython",
    "version": 3
   },
   "file_extension": ".py",
   "mimetype": "text/x-python",
   "name": "python",
   "nbconvert_exporter": "python",
   "pygments_lexer": "ipython3",
   "version": "3.9.13"
  }
 },
 "nbformat": 4,
 "nbformat_minor": 5
}
